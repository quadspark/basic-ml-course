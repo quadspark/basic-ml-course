{
 "cells": [
  {
   "cell_type": "markdown",
   "metadata": {},
   "source": [
    "# Homework 3: Logistics Regression\n",
    "Implement everywhere that has  `...`"
   ]
  },
  {
   "cell_type": "code",
   "execution_count": 3,
   "metadata": {},
   "outputs": [],
   "source": [
    "import numpy as np"
   ]
  },
  {
   "cell_type": "markdown",
   "metadata": {},
   "source": [
    "### Load dataset"
   ]
  },
  {
   "cell_type": "code",
   "execution_count": 4,
   "metadata": {},
   "outputs": [],
   "source": [
    "from sklearn.datasets import load_iris\n",
    "data = load_iris()\n",
    "X, Y = data.data, data.target"
   ]
  },
  {
   "cell_type": "markdown",
   "metadata": {},
   "source": [
    "### Task 1: (1pt)\n",
    "Choose only the last 2 classes (class 1 and 2) from the dataset. You may refer to the code from the lecture video.\n",
    "\n",
    "Some numpy resource that might be useful\n",
    "* Indexing in numpy: https://aman.ai/primers/numpy/#indexing\n",
    "* Boolean mask: https://aman.ai/primers/numpy/#boolean-array-indexing"
   ]
  },
  {
   "cell_type": "code",
   "execution_count": 1,
   "metadata": {},
   "outputs": [],
   "source": [
    "# only classify class 1 vs. class 2\n",
    "# Your code here\n",
    "...\n",
    "\n",
    "Y -= 1 #We need our label to be 0 and 1\n",
    "\n",
    "assert X.shape == (100, 4) #just to make sure"
   ]
  },
  {
   "cell_type": "markdown",
   "metadata": {},
   "source": [
    "### Task 2: Data normalization (1pt)\n",
    "Implement z-score normalization.\n",
    "\n",
    "Remember: normalization is done per feature, not all at once. So you need to calculate the mean and standard deviation for each feature seperately."
   ]
  },
  {
   "cell_type": "code",
   "execution_count": 1,
   "metadata": {},
   "outputs": [],
   "source": [
    "# Write your code here. \n",
    "x_means = ...\n",
    "x_stdevs = ...\n",
    "X = ...\n"
   ]
  },
  {
   "cell_type": "markdown",
   "metadata": {},
   "source": [
    "### Task 3: Construct the design matrix (1pt)\n",
    "We need to add an extra column of 1 that represents the bias/intercept term\n",
    "\n",
    "\n",
    "\\begin{bmatrix}\n",
    "1 & x_{11} & x_{12} & \\dots\\\\\n",
    "1 & x_{21} & x_{22} & \\dots\\\\\n",
    "\\vdots  & \\vdots &\\vdots & \\vdots\\\\\n",
    "1 & x_{n1} & x_{n2} & \\dots\\\\\n",
    "\\end{bmatrix}\n",
    "\n",
    "Helpful function: https://numpy.org/doc/stable/reference/generated/numpy.hstack.html"
   ]
  },
  {
   "cell_type": "code",
   "execution_count": null,
   "metadata": {},
   "outputs": [],
   "source": [
    "# Your code here\n",
    "X = ...\n",
    "\n",
    "# checking the shape of X\n",
    "assert X.shape == (100, 5)"
   ]
  },
  {
   "cell_type": "markdown",
   "metadata": {},
   "source": [
    "### Task 4: Model initialization (1pt)\n",
    "Create parameters here. Initialize with zeros. Output should be a numpy array \n",
    "\n",
    "In case you forgot: $Y = \\sigma(X\\theta)$."
   ]
  },
  {
   "cell_type": "code",
   "execution_count": null,
   "metadata": {},
   "outputs": [],
   "source": [
    "# Your code here\n",
    "weight = ...\n",
    "\n",
    "assert weight.shape == (5, )"
   ]
  },
  {
   "cell_type": "markdown",
   "metadata": {},
   "source": [
    "### Task 5: Sigmoid function (1pt)\n",
    "Implement the sigmoid function. You should use `np.exp` for this\n",
    "\n",
    "\n",
    "$$\\sigma(z) = \\frac{1}{1 + e^{-z}}$$"
   ]
  },
  {
   "cell_type": "code",
   "execution_count": 10,
   "metadata": {},
   "outputs": [],
   "source": [
    "def sigmoid(z):\n",
    "    # Your code here\n",
    "    ...\n",
    "    return"
   ]
  },
  {
   "cell_type": "markdown",
   "metadata": {},
   "source": [
    "### Task 6: Define evaluation metrics (2pt)\n",
    "Implement the accuracy score\n",
    "\n",
    "$$\\frac{\\text{\\# of correct prediction}}{\\text{\\# of datapoint}}$$"
   ]
  },
  {
   "cell_type": "code",
   "execution_count": 2,
   "metadata": {},
   "outputs": [],
   "source": [
    "def accuracy(X, Y, weight):\n",
    "    '''\n",
    "    Evaluate the model, represented by `weight`, with data (X, Y).\n",
    "    \n",
    "    Input:\n",
    "        X:      data features\n",
    "        Y:      data labels\n",
    "        weight: model weights\n",
    "    Ouput:\n",
    "        Model accuracy on input data.\n",
    "    '''\n",
    "    # implement your code here. Below are only some suggestion. \n",
    "    # You don't necessary have to follow the exact step\n",
    "\n",
    "    #Step 1: get the model prediction\n",
    "\n",
    "    #Step 2: Threshold the probability value to get the class. \n",
    "\n",
    "    #Step 3: Compare your model predicted classes with the label y\n",
    "\n",
    "    #step 4: calculate the accuracy using the formula above\n",
    "    ..."
   ]
  },
  {
   "cell_type": "markdown",
   "metadata": {},
   "source": [
    "### Hyperparameters"
   ]
  },
  {
   "cell_type": "code",
   "execution_count": 11,
   "metadata": {},
   "outputs": [],
   "source": [
    "#Don't change these\n",
    "# learning rate\n",
    "alpha = 1e-2\n",
    "# epochs\n",
    "epoch = 10000"
   ]
  },
  {
   "cell_type": "markdown",
   "metadata": {},
   "source": [
    "### Task 7: Train the model. (3pt)\n",
    "Implement the model training loop:\n",
    "1. Calculate the model prediction\n",
    "$$h_\\theta(X) = \\sigma(X\\theta)$$\n",
    "2. Calculate the loss/cost function \n",
    "$$ J(\\theta) = \\frac{-1}{m} \\sum_{i=1}^{m} [y_i \\ln(h_\\theta(x_i)) +(1-y_i)\\ln(1-h_\\theta(x_i))]$$\n",
    "3. Calculate the gradient\n",
    "$$\n",
    "\\frac{\\partial J(\\theta)}{\\partial \\theta} = \\frac{1}{m} X^T(Y-h_\\theta(X))\n",
    "$$\n",
    "4. Update the model parameter \n",
    "$$\\theta = \\theta - \\alpha \\frac{\\partial J(\\theta)}{\\partial \\theta} $$\n",
    "5. Calcualte the model accuracy (use the function you implemented above)"
   ]
  },
  {
   "cell_type": "code",
   "execution_count": 3,
   "metadata": {},
   "outputs": [],
   "source": [
    "# your code here\n",
    "for ep in range(epoch):\n",
    "    ..."
   ]
  },
  {
   "cell_type": "code",
   "execution_count": 9,
   "metadata": {},
   "outputs": [],
   "source": [
    "# just to double check\n",
    "assert np.allclose(weight, np.array([0.12047504, -0.44156746, -0.89309501, 2.965364, 3.3427994]))"
   ]
  },
  {
   "cell_type": "code",
   "execution_count": 10,
   "metadata": {},
   "outputs": [
    {
     "data": {
      "text/plain": [
       "0.96"
      ]
     },
     "execution_count": 10,
     "metadata": {},
     "output_type": "execute_result"
    }
   ],
   "source": [
    "# model accuracy\n",
    "accuracy(X, Y, weight)"
   ]
  },
  {
   "cell_type": "markdown",
   "metadata": {},
   "source": [
    "### (Optional) How low can you go?\n",
    "Do anything you want to get the best performance out of the training set. For once, let's overfit to your heart's content."
   ]
  },
  {
   "cell_type": "code",
   "execution_count": 4,
   "metadata": {},
   "outputs": [],
   "source": [
    "# do some fun code here and try to match this :)\n",
    "..."
   ]
  },
  {
   "cell_type": "code",
   "execution_count": 20,
   "metadata": {},
   "outputs": [
    {
     "name": "stdout",
     "output_type": "stream",
     "text": [
      "Weights: [-0.35439119 -1.62584216 -2.21192859  7.74567601  7.72844057]\n",
      "Loss: 0.0594927339567942\n",
      "Accuracy: 0.98\n"
     ]
    }
   ],
   "source": [
    "print('Weights:', weight)\n",
    "y = 1 / (1 + np.exp(-X @ weight))\n",
    "loss = -np.sum(Y * np.log(y) + (1 - Y) * np.log(1 - y)) / y.size\n",
    "print('Loss:', loss)\n",
    "print('Accuracy:', accuracy(X, Y, weight))"
   ]
  }
 ],
 "metadata": {
  "interpreter": {
   "hash": "0d31d8e9435eeb371278650612d4e0ff3f973ecc6a4199c9ae1c8c510f127393"
  },
  "kernelspec": {
   "display_name": "Python 3.8.13 ('audio_book')",
   "language": "python",
   "name": "python3"
  },
  "language_info": {
   "codemirror_mode": {
    "name": "ipython",
    "version": 3
   },
   "file_extension": ".py",
   "mimetype": "text/x-python",
   "name": "python",
   "nbconvert_exporter": "python",
   "pygments_lexer": "ipython3",
   "version": "3.8.13"
  }
 },
 "nbformat": 4,
 "nbformat_minor": 4
}
