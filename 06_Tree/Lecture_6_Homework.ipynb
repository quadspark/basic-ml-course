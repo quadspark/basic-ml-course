{
  "nbformat": 4,
  "nbformat_minor": 0,
  "metadata": {
    "colab": {
      "provenance": []
    },
    "kernelspec": {
      "name": "python3",
      "display_name": "Python 3"
    },
    "language_info": {
      "name": "python"
    }
  },
  "cells": [
    {
      "cell_type": "markdown",
      "source": [
        "# Homework 6: Decision tree & Random forest\n",
        "\n",
        "Good news! We don't have to implement anything from scratch today!\n",
        "\n",
        "To make things easier, make a copy of this notebook and do the exercise in there.\n",
        "\n",
        "Implement everywhere that has ..."
      ],
      "metadata": {
        "id": "JhpQ0Psh6CYr"
      }
    },
    {
      "cell_type": "code",
      "source": [
        "import pandas as pd\n",
        "import numpy as np \n",
        "import matplotlib.pyplot as plt\n",
        "from sklearn.datasets import fetch_california_housing"
      ],
      "metadata": {
        "id": "SDV_S_yM5lIP"
      },
      "execution_count": null,
      "outputs": []
    },
    {
      "cell_type": "code",
      "execution_count": null,
      "metadata": {
        "id": "jgWYc7Im5kiN"
      },
      "outputs": [],
      "source": [
        "# Load the data\n",
        "data = fetch_california_housing()\n",
        "X, y = data.data, data.target\n",
        "feature_names = data.feature_names\n",
        "print(X.shape, y.shape)"
      ]
    },
    {
      "cell_type": "markdown",
      "source": [
        "## Task 1 (1pt)\n",
        "\n",
        "* Split the data into a training and validation set with 80%/20% distribution\n",
        "* Use [train_test_split](https://scikit-learn.org/stable/modules/generated/sklearn.model_selection.train_test_split.html) function from sklearn for this. Remember to set the `random_state` parameter to 0 \n",
        "\n",
        "\n"
      ],
      "metadata": {
        "id": "4__JnyX_8Cxn"
      }
    },
    {
      "cell_type": "code",
      "source": [
        "from sklearn.model_selection import train_test_split\n",
        "X_train, X_valid, y_train, y_valid = ..."
      ],
      "metadata": {
        "id": "_C-xPZOe7Qm5"
      },
      "execution_count": null,
      "outputs": []
    },
    {
      "cell_type": "markdown",
      "source": [
        "## Task 2 (1 pt)\n",
        "Train a decision tree model to predict house price. Remember to use the training set `X_train` to train the model\n",
        "* Train a model with `max_depth=1`. Remember to set the `random_state=0` \n",
        "* Visualize the tree you just trained. You can refer to the code from the lecture video. \n",
        "* Which feature was used to split the data (choose 1 and write you answer in a comment below the code\n",
        "    * `MedInc`\n",
        "    * `AveRooms`\n",
        "    * `AveBedrms`\n",
        "    * `HouseAge`"
      ],
      "metadata": {
        "id": "AZsxbOnH97Y3"
      }
    },
    {
      "cell_type": "code",
      "source": [
        "from sklearn.tree import DecisionTreeRegressor, export_graphviz\n",
        "# for visualization\n",
        "import graphviz"
      ],
      "metadata": {
        "id": "ETFCCvHA-V4d"
      },
      "execution_count": null,
      "outputs": []
    },
    {
      "cell_type": "code",
      "source": [
        "# Initialize the decision tree class and train the decision tree\n",
        "tree = ...\n",
        "\n",
        "# Visualize the tree\n",
        "...\n",
        "\n",
        "# Write you answer here: ..."
      ],
      "metadata": {
        "id": "Z2iwlEYR9xPo"
      },
      "execution_count": null,
      "outputs": []
    },
    {
      "cell_type": "markdown",
      "source": [
        "## Task 3 (2pt)\n",
        "* Train a decision tree with `max_depth=3`.\n",
        "* Don't forget `random_state=0`\n",
        "* Print the mean square error on the validation set.\n",
        "* What is the mean square error you just calculate.\n",
        " Write you answer in the comment below the code.\n"
      ],
      "metadata": {
        "id": "VKKSFfc1BZNT"
      }
    },
    {
      "cell_type": "code",
      "source": [
        "\n",
        "# Train the model\n",
        "tree = ...\n",
        "\n",
        "# Print the mean squared error\n",
        "...\n",
        "\n",
        "# What's the mean squared error you just calculate: "
      ],
      "metadata": {
        "id": "7XIzWfHXAdaP"
      },
      "execution_count": null,
      "outputs": []
    },
    {
      "cell_type": "markdown",
      "source": [
        "## Task 4 (2pt)\n",
        "Tune the `max_depth` parameter of the model\n",
        "* Try different values for `max_depth`: `[5, 6, 7, 8, 9, 10, 11, 12]`\n",
        "* Don't forget `random_state=0`\n",
        "* Print out the mean square error for each value of `max_depth`\n",
        "* What is the best value for `max_depth`? Write you answer in the comment below the code."
      ],
      "metadata": {
        "id": "vUpkklmCDpkB"
      }
    },
    {
      "cell_type": "code",
      "source": [
        "# Your code here\n",
        "...\n",
        "\n",
        "# What's the best max_depth: "
      ],
      "metadata": {
        "id": "aWy1Jy5dDR83"
      },
      "execution_count": null,
      "outputs": []
    },
    {
      "cell_type": "markdown",
      "source": [
        "## Task 5 (1pt)\n",
        "Let's switch to random forest\n",
        "\n",
        "Train a random forest model with\n",
        "* n_estimators=20\n",
        "* random_state=0\n",
        "\n",
        "What is the mean square error on the validation set? Write you answer in the comment below the code"
      ],
      "metadata": {
        "id": "QYKcXabRF51e"
      }
    },
    {
      "cell_type": "code",
      "source": [
        "from sklearn.ensemble import RandomForestRegressor"
      ],
      "metadata": {
        "id": "IzvkkR8jEZWZ"
      },
      "execution_count": null,
      "outputs": []
    },
    {
      "cell_type": "code",
      "source": [
        "# Your code here\n",
        "...\n",
        "\n",
        "#The mean square error on the validation set"
      ],
      "metadata": {
        "id": "BgAZx5dhGxfI"
      },
      "execution_count": null,
      "outputs": []
    },
    {
      "cell_type": "markdown",
      "source": [
        "## Task 6 (2pt)\n",
        "Tune different hyperparameter of random forest\n",
        "* `random_state=0`\n",
        "* Try different values for `max_features`: `[0.5, 'sqrt', 'log2']`\n",
        "* For each of these values for `max_features`, try different values of `n_estimators` from 10 to 100 (with step size 10): i.e `[10, 20, 30, ...]` \n",
        "* Optionally set `n_jobs=-1` to train faster"
      ],
      "metadata": {
        "id": "4VX2PLb2H1rL"
      }
    },
    {
      "cell_type": "code",
      "source": [
        "# Your code here \n",
        "..."
      ],
      "metadata": {
        "id": "-XKDGYOFJcew"
      },
      "execution_count": null,
      "outputs": []
    },
    {
      "cell_type": "markdown",
      "source": [
        "## Task 7 (1pt)\n",
        "\n",
        "Extract feature importance of the model\n",
        "Train a random forest model with:\n",
        "* `n_estimators=10`\n",
        "* `max_dept=15`\n",
        "* `random_state=0`\n",
        "\n",
        "Get the feature importance attribute of the model. You can use the `feature_importances_` attibute \n",
        "\n",
        "What is the most important feature? write your answer in a comment in the code cell below."
      ],
      "metadata": {
        "id": "-M5fPzEvLfRL"
      }
    },
    {
      "cell_type": "code",
      "source": [
        "# Train your model\n",
        "...\n",
        "\n",
        "# Get feature importance\n",
        "feature_importances = ..."
      ],
      "metadata": {
        "id": "MLD-XuzuKOBS"
      },
      "execution_count": null,
      "outputs": []
    },
    {
      "cell_type": "code",
      "source": [
        "df_importances = pd.DataFrame()\n",
        "df_importances['feature'] = feature_names\n",
        "df_importances['importance'] = feature_importances\n",
        "df_importances.sort_values(by='importance', inplace=True)\n",
        "\n",
        "plt.barh(range(df_importances.shape[0]), df_importances.importance)\n",
        "plt.yticks(range(df_importances.shape[0]), df_importances.feature)\n",
        "\n",
        "plt.show()\n",
        "\n",
        "#The most important feature: \n"
      ],
      "metadata": {
        "id": "sE1h5YOgMKQM"
      },
      "execution_count": null,
      "outputs": []
    },
    {
      "cell_type": "code",
      "source": [],
      "metadata": {
        "id": "aLPbBYD7NYt0"
      },
      "execution_count": null,
      "outputs": []
    }
  ]
}