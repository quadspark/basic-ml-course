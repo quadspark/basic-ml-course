{
  "nbformat": 4,
  "nbformat_minor": 0,
  "metadata": {
    "colab": {
      "provenance": [],
      "include_colab_link": true
    },
    "kernelspec": {
      "name": "python3",
      "display_name": "Python 3"
    },
    "language_info": {
      "name": "python"
    }
  },
  "cells": [
    {
      "cell_type": "markdown",
      "metadata": {
        "id": "view-in-github",
        "colab_type": "text"
      },
      "source": [
        "<a href=\"https://colab.research.google.com/github/quadspark/basic-ml-course/blob/Week6/06_Tree/Solution6.ipynb\" target=\"_parent\"><img src=\"https://colab.research.google.com/assets/colab-badge.svg\" alt=\"Open In Colab\"/></a>"
      ]
    },
    {
      "cell_type": "markdown",
      "source": [
        "# Homework 6: Decision tree & Random forest\n",
        "\n",
        "Good news! We don't have to implement anything from scratch today!\n",
        "\n",
        "To make things easier, make a copy of this notebook and do the exercise in there.\n",
        "\n",
        "Implement everywhere that has ..."
      ],
      "metadata": {
        "id": "JhpQ0Psh6CYr"
      }
    },
    {
      "cell_type": "code",
      "source": [
        "import pandas as pd\n",
        "import numpy as np \n",
        "import matplotlib.pyplot as plt\n",
        "from sklearn.datasets import fetch_california_housing"
      ],
      "metadata": {
        "id": "SDV_S_yM5lIP"
      },
      "execution_count": 12,
      "outputs": []
    },
    {
      "cell_type": "code",
      "execution_count": 13,
      "metadata": {
        "id": "jgWYc7Im5kiN",
        "outputId": "00608a72-9b65-4fbe-f6e6-e8fc8a85a96f",
        "colab": {
          "base_uri": "https://localhost:8080/"
        }
      },
      "outputs": [
        {
          "output_type": "stream",
          "name": "stdout",
          "text": [
            "(20640, 8) (20640,)\n"
          ]
        }
      ],
      "source": [
        "# Load the data\n",
        "data = fetch_california_housing()\n",
        "X, y = data.data, data.target\n",
        "feature_names = data.feature_names\n",
        "print(X.shape, y.shape)"
      ]
    },
    {
      "cell_type": "markdown",
      "source": [
        "## Task 1 (1pt)\n",
        "\n",
        "* Split the data into a training and validation set with 80%/20% distribution\n",
        "* Use [train_test_split](https://scikit-learn.org/stable/modules/generated/sklearn.model_selection.train_test_split.html) function from sklearn for this. Remember to set the `random_state` parameter to 0 \n",
        "\n",
        "\n"
      ],
      "metadata": {
        "id": "4__JnyX_8Cxn"
      }
    },
    {
      "cell_type": "code",
      "source": [
        "from sklearn.model_selection import train_test_split\n",
        "X_train, X_valid, y_train, y_valid = train_test_split(X, y, train_size = 0.8, random_state = 0)"
      ],
      "metadata": {
        "id": "_C-xPZOe7Qm5"
      },
      "execution_count": 14,
      "outputs": []
    },
    {
      "cell_type": "markdown",
      "source": [
        "## Task 2 (1 pt)\n",
        "Train a decision tree model to predict house price. Remember to use the training set `X_train` to train the model\n",
        "* Train a model with `max_depth=1`. Remember to set the `random_state=0` \n",
        "* Visualize the tree you just trained. You can refer to the code from the lecture video. \n",
        "* Which feature was used to split the data (choose 1 and write you answer in a comment below the code\n",
        "    * `MedInc`\n",
        "    * `AveRooms`\n",
        "    * `AveBedrms`\n",
        "    * `HouseAge`"
      ],
      "metadata": {
        "id": "AZsxbOnH97Y3"
      }
    },
    {
      "cell_type": "code",
      "source": [
        "from sklearn.tree import DecisionTreeRegressor, export_graphviz\n",
        "# for visualization\n",
        "import graphviz"
      ],
      "metadata": {
        "id": "ETFCCvHA-V4d"
      },
      "execution_count": null,
      "outputs": []
    },
    {
      "cell_type": "code",
      "source": [
        "# Initialize the decision tree class and train the decision tree\n",
        "tree = DecisionTreeRegressor(max_depth=1,random_state=0)\n",
        "tree.fit(X,y)\n",
        "\n",
        "# Visualize the tree\n",
        "graphviz.Source(export_graphviz(tree, \n",
        "                                feature_names=data['feature_names'], \n",
        "                                class_names = data['target_names']))\n",
        "# Write you answer here: MedInc"
      ],
      "metadata": {
        "id": "Z2iwlEYR9xPo",
        "colab": {
          "base_uri": "https://localhost:8080/",
          "height": 241
        },
        "outputId": "60e161a8-9c84-4dd9-fd1a-e28b6ca2be0b"
      },
      "execution_count": null,
      "outputs": [
        {
          "output_type": "execute_result",
          "data": {
            "text/plain": [
              "<graphviz.files.Source at 0x7f971bea8cd0>"
            ],
            "image/svg+xml": "<?xml version=\"1.0\" encoding=\"UTF-8\" standalone=\"no\"?>\n<!DOCTYPE svg PUBLIC \"-//W3C//DTD SVG 1.1//EN\"\n \"http://www.w3.org/Graphics/SVG/1.1/DTD/svg11.dtd\">\n<!-- Generated by graphviz version 2.40.1 (20161225.0304)\n -->\n<!-- Title: Tree Pages: 1 -->\n<svg width=\"348pt\" height=\"165pt\"\n viewBox=\"0.00 0.00 348.00 165.00\" xmlns=\"http://www.w3.org/2000/svg\" xmlns:xlink=\"http://www.w3.org/1999/xlink\">\n<g id=\"graph0\" class=\"graph\" transform=\"scale(1 1) rotate(0) translate(4 161)\">\n<title>Tree</title>\n<polygon fill=\"#ffffff\" stroke=\"transparent\" points=\"-4,4 -4,-161 344,-161 344,4 -4,4\"/>\n<!-- 0 -->\n<g id=\"node1\" class=\"node\">\n<title>0</title>\n<polygon fill=\"none\" stroke=\"#000000\" points=\"250,-157 89,-157 89,-89 250,-89 250,-157\"/>\n<text text-anchor=\"middle\" x=\"169.5\" y=\"-141.8\" font-family=\"Helvetica,sans-Serif\" font-size=\"14.00\" fill=\"#000000\">MedInc &lt;= 5.035</text>\n<text text-anchor=\"middle\" x=\"169.5\" y=\"-126.8\" font-family=\"Helvetica,sans-Serif\" font-size=\"14.00\" fill=\"#000000\">squared_error = 1.332</text>\n<text text-anchor=\"middle\" x=\"169.5\" y=\"-111.8\" font-family=\"Helvetica,sans-Serif\" font-size=\"14.00\" fill=\"#000000\">samples = 20640</text>\n<text text-anchor=\"middle\" x=\"169.5\" y=\"-96.8\" font-family=\"Helvetica,sans-Serif\" font-size=\"14.00\" fill=\"#000000\">value = 2.069</text>\n</g>\n<!-- 1 -->\n<g id=\"node2\" class=\"node\">\n<title>1</title>\n<polygon fill=\"none\" stroke=\"#000000\" points=\"161,-53 0,-53 0,0 161,0 161,-53\"/>\n<text text-anchor=\"middle\" x=\"80.5\" y=\"-37.8\" font-family=\"Helvetica,sans-Serif\" font-size=\"14.00\" fill=\"#000000\">squared_error = 0.837</text>\n<text text-anchor=\"middle\" x=\"80.5\" y=\"-22.8\" font-family=\"Helvetica,sans-Serif\" font-size=\"14.00\" fill=\"#000000\">samples = 16255</text>\n<text text-anchor=\"middle\" x=\"80.5\" y=\"-7.8\" font-family=\"Helvetica,sans-Serif\" font-size=\"14.00\" fill=\"#000000\">value = 1.735</text>\n</g>\n<!-- 0&#45;&gt;1 -->\n<g id=\"edge1\" class=\"edge\">\n<title>0&#45;&gt;1</title>\n<path fill=\"none\" stroke=\"#000000\" d=\"M138.1219,-88.9777C129.6766,-79.8207 120.5389,-69.9129 112.0825,-60.744\"/>\n<polygon fill=\"#000000\" stroke=\"#000000\" points=\"114.5221,-58.2266 105.1696,-53.2485 109.3764,-62.9723 114.5221,-58.2266\"/>\n<text text-anchor=\"middle\" x=\"104.1596\" y=\"-74.5281\" font-family=\"Helvetica,sans-Serif\" font-size=\"14.00\" fill=\"#000000\">True</text>\n</g>\n<!-- 2 -->\n<g id=\"node3\" class=\"node\">\n<title>2</title>\n<polygon fill=\"none\" stroke=\"#000000\" points=\"340,-53 179,-53 179,0 340,0 340,-53\"/>\n<text text-anchor=\"middle\" x=\"259.5\" y=\"-37.8\" font-family=\"Helvetica,sans-Serif\" font-size=\"14.00\" fill=\"#000000\">squared_error = 1.221</text>\n<text text-anchor=\"middle\" x=\"259.5\" y=\"-22.8\" font-family=\"Helvetica,sans-Serif\" font-size=\"14.00\" fill=\"#000000\">samples = 4385</text>\n<text text-anchor=\"middle\" x=\"259.5\" y=\"-7.8\" font-family=\"Helvetica,sans-Serif\" font-size=\"14.00\" fill=\"#000000\">value = 3.306</text>\n</g>\n<!-- 0&#45;&gt;2 -->\n<g id=\"edge2\" class=\"edge\">\n<title>0&#45;&gt;2</title>\n<path fill=\"none\" stroke=\"#000000\" d=\"M201.2306,-88.9777C209.7708,-79.8207 219.0113,-69.9129 227.5626,-60.744\"/>\n<polygon fill=\"#000000\" stroke=\"#000000\" points=\"230.2923,-62.9488 234.5532,-53.2485 225.1731,-58.1744 230.2923,-62.9488\"/>\n<text text-anchor=\"middle\" x=\"235.424\" y=\"-74.5333\" font-family=\"Helvetica,sans-Serif\" font-size=\"14.00\" fill=\"#000000\">False</text>\n</g>\n</g>\n</svg>\n"
          },
          "metadata": {},
          "execution_count": 5
        }
      ]
    },
    {
      "cell_type": "markdown",
      "source": [
        "## Task 3 (2pt)\n",
        "* Train a decision tree with `max_depth=3`.\n",
        "* Don't forget `random_state=0`\n",
        "* Print the mean square error on the validation set.\n",
        "* What is the mean square error you just calculate.\n",
        " Write you answer in the comment below the code.\n"
      ],
      "metadata": {
        "id": "VKKSFfc1BZNT"
      }
    },
    {
      "cell_type": "code",
      "source": [
        "from sklearn.metrics import mean_squared_error\n",
        "# Train the model\n",
        "tree = DecisionTreeRegressor(max_depth=3, random_state=0)\n",
        "tree.fit(X_train,y_train)\n",
        "\n",
        "# Print the mean squared error\n",
        "print(tree.score(X_valid,y_valid))\n",
        "# What's the mean squared error you just calculate: 0.4989765792434021"
      ],
      "metadata": {
        "id": "7XIzWfHXAdaP",
        "outputId": "ec55502a-555c-4a61-eeef-631061dbba71",
        "colab": {
          "base_uri": "https://localhost:8080/"
        }
      },
      "execution_count": null,
      "outputs": [
        {
          "output_type": "stream",
          "name": "stdout",
          "text": [
            "0.4989765792434021\n"
          ]
        }
      ]
    },
    {
      "cell_type": "markdown",
      "source": [
        "## Task 4 (2pt)\n",
        "Tune the `max_depth` parameter of the model\n",
        "* Try different values for `max_depth`: `[5, 6, 7, 8, 9, 10, 11, 12]`\n",
        "* Don't forget `random_state=0`\n",
        "* Print out the mean square error for each value of `max_depth`\n",
        "* What is the best value for `max_depth`? Write you answer in the comment below the code."
      ],
      "metadata": {
        "id": "vUpkklmCDpkB"
      }
    },
    {
      "cell_type": "code",
      "source": [
        "# Your code here\n",
        "# max_depth = [5, 6, 7, 8, 9, 10, 11, 12]\n",
        "for i in range(5,13):\n",
        "  tree = DecisionTreeRegressor(max_depth=i, random_state = 0)\n",
        "  tree.fit(X_train, y_train)\n",
        "  print(\"for max depth\" , i ,(tree.score(X_valid, y_valid)))\n",
        "\n",
        "# What's the best max_depth: max_depth = 9 : 0.6691882365248636"
      ],
      "metadata": {
        "id": "aWy1Jy5dDR83",
        "outputId": "1f2e897e-fb89-4295-929b-1230e4ee9d52",
        "colab": {
          "base_uri": "https://localhost:8080/"
        }
      },
      "execution_count": null,
      "outputs": [
        {
          "output_type": "stream",
          "name": "stdout",
          "text": [
            "for max depth 5 0.5857247671583736\n",
            "for max depth 6 0.6177698126912781\n",
            "for max depth 7 0.6474580599597188\n",
            "for max depth 8 0.6579285437883257\n",
            "for max depth 9 0.6691882365248636\n",
            "for max depth 10 0.6571783546875503\n",
            "for max depth 11 0.659273981958957\n",
            "for max depth 12 0.6545196496283374\n"
          ]
        }
      ]
    },
    {
      "cell_type": "markdown",
      "source": [
        "## Task 5 (1pt)\n",
        "Let's switch to random forest\n",
        "\n",
        "Train a random forest model with\n",
        "* n_estimators=20\n",
        "* random_state=0\n",
        "\n",
        "What is the mean square error on the validation set? Write you answer in the comment below the code"
      ],
      "metadata": {
        "id": "QYKcXabRF51e"
      }
    },
    {
      "cell_type": "code",
      "source": [
        "from sklearn.ensemble import RandomForestRegressor"
      ],
      "metadata": {
        "id": "IzvkkR8jEZWZ"
      },
      "execution_count": null,
      "outputs": []
    },
    {
      "cell_type": "code",
      "source": [
        "# Your code here\n",
        "tree = RandomForestRegressor(n_estimators = 20, random_state = 0)\n",
        "tree.fit(X,y)\n",
        "\n",
        "print(tree.score(X_valid, y_valid))\n",
        "#The mean square error on the validation set :0.9681385561222473"
      ],
      "metadata": {
        "id": "BgAZx5dhGxfI",
        "outputId": "b12142f0-4d00-4023-d44f-e2fe82ece760",
        "colab": {
          "base_uri": "https://localhost:8080/"
        }
      },
      "execution_count": null,
      "outputs": [
        {
          "output_type": "stream",
          "name": "stdout",
          "text": [
            "0.9681385561222473\n"
          ]
        }
      ]
    },
    {
      "cell_type": "markdown",
      "source": [
        "## Task 6 (2pt)\n",
        "Tune different hyperparameter of random forest\n",
        "* `random_state=0`\n",
        "* Try different values for `max_features`: `[0.5, 'sqrt', 'log2']`\n",
        "* For each of these values for `max_features`, try different values of `n_estimators` from 10 to 100 (with step size 10): i.e `[10, 20, 30, ...]` \n",
        "* Optionally set `n_jobs=-1` to train faster"
      ],
      "metadata": {
        "id": "4VX2PLb2H1rL"
      }
    },
    {
      "cell_type": "code",
      "source": [
        "from sklearn.model_selection import GridSearchCV\n",
        "n_estimators = [10,20,30,40,50,60,70,80,90,100]\n",
        "max_features = [0.5, 'sqrt', 'log2']\n",
        "param_grid = dict(max_features = max_features, n_estimators = n_estimators)\n",
        "\n",
        "dfirst = RandomForestRegressor(n_estimators = n_estimators, max_features = max_features, random_state = 0 , n_jobs = -1)\n",
        "grid = GridSearchCV(estimator = dfirst, param_grid = param_grid, cv = 5)\n",
        "grid_results = grid.fit(X_valid, y_valid)\n",
        "print(\"Best: {0}, using {1}\".format(grid_results.cv_results_['mean_test_score'], grid_results.best_params_))\n",
        "results_df = pd.DataFrame(grid_results.cv_results_)\n",
        "results_df"
      ],
      "metadata": {
        "id": "B_ldeXGXNsdN"
      },
      "execution_count": null,
      "outputs": []
    },
    {
      "cell_type": "markdown",
      "source": [
        "## Task 7 (1pt)\n",
        "\n",
        "Extract feature importance of the model\n",
        "Train a random forest model with:\n",
        "* `n_estimators=10`\n",
        "* `max_dept=15`\n",
        "* `random_state=0`\n",
        "\n",
        "Get the feature importance attribute of the model. You can use the `feature_importances_` attibute \n",
        "\n",
        "What is the most important feature? write your answer in a comment in the code cell below."
      ],
      "metadata": {
        "id": "-M5fPzEvLfRL"
      }
    },
    {
      "cell_type": "code",
      "source": [
        "# Train your model\n",
        "forest = RandomForestRegressor(n_estimators = 10 ,max_depth = 15, random_state = 1)\n",
        "\n",
        "forest.fit(X_train, y_train)\n",
        "# Get feature importance\n",
        "feature_importances = forest.feature_importances_"
      ],
      "metadata": {
        "id": "MLD-XuzuKOBS"
      },
      "execution_count": 20,
      "outputs": []
    },
    {
      "cell_type": "code",
      "source": [
        "df_importances = pd.DataFrame()\n",
        "df_importances['feature'] = feature_names\n",
        "df_importances['importance'] = feature_importances\n",
        "df_importances.sort_values(by='importance', inplace=True)\n",
        "\n",
        "plt.barh(range(df_importances.shape[0]), df_importances.importance)\n",
        "plt.yticks(range(df_importances.shape[0]), df_importances.feature)\n",
        "\n",
        "plt.show()\n",
        "\n",
        "#The most important feature: MedInc\n"
      ],
      "metadata": {
        "id": "sE1h5YOgMKQM",
        "colab": {
          "base_uri": "https://localhost:8080/",
          "height": 265
        },
        "outputId": "8e150936-b0de-4cc0-aa4d-c96d9a9a65a0"
      },
      "execution_count": 21,
      "outputs": [
        {
          "output_type": "display_data",
          "data": {
            "text/plain": [
              "<Figure size 432x288 with 1 Axes>"
            ],
            "image/png": "[encoded data removed]"
          },
          "metadata": {
            "needs_background": "light"
          }
        }
      ]
    },
    {
      "cell_type": "code",
      "source": [],
      "metadata": {
        "id": "aLPbBYD7NYt0"
      },
      "execution_count": null,
      "outputs": []
    }
  ]
}