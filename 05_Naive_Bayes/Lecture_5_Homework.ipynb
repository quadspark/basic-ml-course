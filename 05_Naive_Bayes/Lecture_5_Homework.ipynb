{
  "cells": [
    {
      "cell_type": "markdown",
      "metadata": {
        "id": "h6sFU3yy9rKe"
      },
      "source": [
        "In this assignment, we will implement Bernoulli Naive Bayes and Multinomial Naive Bayes, and apply them for text classification. \\\\\n",
        "We will experiment on the 20 newsgroups text dataset. It comprises around 18000 newsgroups posts on 20 topics split in two subsets: one for training (or development) and the other one for testing (or for performance evaluation). \\\\\n",
        "First, we load the dataset from sklearn"
      ]
    },
    {
      "cell_type": "code",
      "execution_count": 1,
      "metadata": {
        "id": "VUJshdxZ8N7G"
      },
      "outputs": [],
      "source": [
        "from sklearn.datasets import fetch_20newsgroups\n",
        "newsgroups_train = fetch_20newsgroups(subset='train')\n",
        "newsgroups_test = fetch_20newsgroups(subset='test')"
      ]
    },
    {
      "cell_type": "markdown",
      "metadata": {
        "id": "PXgEMdjf-drl"
      },
      "source": [
        "You can access to text by `data` property. For labels, their name and corresponding numeric values are stored in `target_names` and `target`. \\\\\n",
        "Let's take a look at our data"
      ]
    },
    {
      "cell_type": "code",
      "execution_count": 2,
      "metadata": {
        "colab": {
          "base_uri": "https://localhost:8080/"
        },
        "id": "Pri0JqOR-mP_",
        "outputId": "534ae31e-0bf0-49a4-97d8-45ab41f9ca4b"
      },
      "outputs": [
        {
          "data": {
            "text/plain": [
              "11314"
            ]
          },
          "execution_count": 2,
          "metadata": {},
          "output_type": "execute_result"
        }
      ],
      "source": [
        "len(newsgroups_train.data)"
      ]
    },
    {
      "cell_type": "code",
      "execution_count": 3,
      "metadata": {
        "colab": {
          "base_uri": "https://localhost:8080/"
        },
        "id": "oWzOQVje-0OI",
        "outputId": "6b5d0602-db3c-4b5c-81c7-746f1f3a42db"
      },
      "outputs": [
        {
          "data": {
            "text/plain": [
              "(array([7, 4, 4, ..., 3, 1, 8]),\n",
              " ['alt.atheism',\n",
              "  'comp.graphics',\n",
              "  'comp.os.ms-windows.misc',\n",
              "  'comp.sys.ibm.pc.hardware',\n",
              "  'comp.sys.mac.hardware',\n",
              "  'comp.windows.x',\n",
              "  'misc.forsale',\n",
              "  'rec.autos',\n",
              "  'rec.motorcycles',\n",
              "  'rec.sport.baseball',\n",
              "  'rec.sport.hockey',\n",
              "  'sci.crypt',\n",
              "  'sci.electronics',\n",
              "  'sci.med',\n",
              "  'sci.space',\n",
              "  'soc.religion.christian',\n",
              "  'talk.politics.guns',\n",
              "  'talk.politics.mideast',\n",
              "  'talk.politics.misc',\n",
              "  'talk.religion.misc'])"
            ]
          },
          "execution_count": 3,
          "metadata": {},
          "output_type": "execute_result"
        }
      ],
      "source": [
        "newsgroups_train.target, newsgroups_train.target_names"
      ]
    },
    {
      "cell_type": "code",
      "execution_count": null,
      "metadata": {
        "colab": {
          "base_uri": "https://localhost:8080/",
          "height": 104
        },
        "id": "2RDyDW0N-XGU",
        "outputId": "8d40cc92-6f2e-4db5-8f52-e848459f5484"
      },
      "outputs": [
        {
          "data": {
            "application/vnd.google.colaboratory.intrinsic+json": {
              "type": "string"
            },
            "text/plain": [
              "\"From: lerxst@wam.umd.edu (where's my thing)\\nSubject: WHAT car is this!?\\nNntp-Posting-Host: rac3.wam.umd.edu\\nOrganization: University of Maryland, College Park\\nLines: 15\\n\\n I was wondering if anyone out there could enlighten me on this car I saw\\nthe other day. It was a 2-door sports car, looked to be from the late 60s/\\nearly 70s. It was called a Bricklin. The doors were really small. In addition,\\nthe front bumper was separate from the rest of the body. This is \\nall I know. If anyone can tellme a model name, engine specs, years\\nof production, where this car is made, history, or whatever info you\\nhave on this funky looking car, please e-mail.\\n\\nThanks,\\n- IL\\n   ---- brought to you by your neighborhood Lerxst ----\\n\\n\\n\\n\\n\""
            ]
          },
          "execution_count": 4,
          "metadata": {},
          "output_type": "execute_result"
        }
      ],
      "source": [
        "newsgroups_train.data[0]"
      ]
    },
    {
      "cell_type": "markdown",
      "metadata": {
        "id": "U3AQxoDZ_hBe"
      },
      "source": [
        "When applying machine learning to solve problems, designing algorithm is not the only way to optimize. We can also intervene on data, i.e. data preprocessing, feature selection, etc. In some case, this approach is even better than model optimizing. <br>\n",
        "For this dataset, you can notice that the text have lots of redundant information, for example punctuation, title, etc. We can remove those from our data to get better performance. Here I define a function to remove all punctuation from text."
      ]
    },
    {
      "cell_type": "code",
      "execution_count": 3,
      "metadata": {
        "id": "d1wQ6mFp-YyE"
      },
      "outputs": [],
      "source": [
        "def remove_tokens(token_list, text):\n",
        "    for token in token_list:\n",
        "        text = text.replace(token, '')\n",
        "    return text"
      ]
    },
    {
      "cell_type": "code",
      "execution_count": 4,
      "metadata": {
        "id": "yw6KGy8pBPUr"
      },
      "outputs": [],
      "source": [
        "from string import punctuation\n",
        "preprocessed_text = [remove_tokens(punctuation, text) for text in newsgroups_train.data]"
      ]
    },
    {
      "cell_type": "markdown",
      "metadata": {
        "id": "FK2T5rTQBZEY"
      },
      "source": [
        "**Assignment 1** : First we have to transform text into numeric feature. You have to build a matrix that counts word occurences in each documents **(0.5pt)**. For fast computing, we only select `30000` words with highest frequency. <br>\n",
        "*Hint* You should use `sklearn.feature_extraction.text.CountVectorizer` and `max_features` argument."
      ]
    },
    {
      "cell_type": "code",
      "execution_count": 137,
      "metadata": {
        "id": "426ZmPR-ytRL"
      },
      "outputs": [],
      "source": [
        "from sklearn.feature_extraction.text import CountVectorizer\n",
        "num_word = 30000\n",
        "vectorizer = ...\n",
        "train_data = ..."
      ]
    },
    {
      "cell_type": "markdown",
      "metadata": {
        "id": "MnHe2WcpDRJ_"
      },
      "source": [
        "Recall that for Naive Bayes, we find label that satisfy \n",
        "$$c=\\arg\\max_{c'} p(c')\\prod p(x_i|c')$$\n",
        "**Assigment 2** : We will derive prior probabilities $p(c')$ from data by computing frequency of class. You have to compute the number of documents in each class in `class_freq` variable, and divide to the total number of documents to get prior probability in `prior_prob` variable **(1pt)** <br>\n",
        "*Hint* To count the number of data with given class, you can use `np.unique` function with argument `return_counts=True`. To get summation of a numpy array, you coud use `np.sum` function"
      ]
    },
    {
      "cell_type": "code",
      "execution_count": null,
      "metadata": {
        "id": "tyufOD_ODQra"
      },
      "outputs": [],
      "source": [
        "import numpy as np\n",
        "class_freq = ...\n",
        "prior_prob = ..."
      ]
    },
    {
      "cell_type": "markdown",
      "metadata": {
        "id": "ib3LX3zVGe0L"
      },
      "source": [
        "**Assigment 3** : In this step, we will implement Bernoulli Naive Bayes. Therefore, the conditional probability is probability of that a document with label $c$ has the word $x_i$. <br>\n",
        "To do that, we need the number of documents which has word $x_i$ and label $c$ for every pair $(x_i,c)$. Your task is computing these values and store them in `word_label_freq` variable. It should be a numpy array for fast computing in the next step. **(0.5.pt)** <br>\n",
        "*Hint:* Our `'train_data` features are the number of occurences of words in documents. You can convert them to binary feature that whether a word appears in a document. To get all data of a given class, you can use [boolean index select](https://numpy.org/doc/stable/user/basics.indexing.html#boolean-array-indexing). To sum up a 2d numpy array along a selected dimension, you can use `np.sum(..., axis=...)`"
      ]
    },
    {
      "cell_type": "code",
      "execution_count": null,
      "metadata": {
        "id": "x5c39g3zFKX6"
      },
      "outputs": [],
      "source": [
        "word_label_freq = ..."
      ]
    },
    {
      "cell_type": "markdown",
      "metadata": {
        "id": "uDRlWLSdGiXu"
      },
      "source": [
        "**Assigment 4** : \n",
        "The conditional probability is computed by dividing the number of documents which has word $x_i$ and label $c$ to the number of documents with label $c$. However, if there is no document which has word $x_i$ and label $c$ in training data, the probability will be zero, which is undesirable. <br>\n",
        "To handle this problem, we can apply Laplace smoothing, then conditional probability will be computed as following\n",
        "$$p(x_i=1|c) = \\frac{N_{ic} + \\alpha}{N_c +|V|\\alpha}$$\n",
        "where $|V|$ is the number of words, which is `30000` here. <br>\n",
        "Your task here is implementing this formula with default `alpha=0.01` and then fill in all the probability values in `cond_prob` variable. It should be a numpy array for fast computing in the next step. **(1pt)**"
      ]
    },
    {
      "cell_type": "code",
      "execution_count": 141,
      "metadata": {
        "id": "015-PXOs2qSl"
      },
      "outputs": [],
      "source": [
        "alpha = 0.01"
      ]
    },
    {
      "cell_type": "code",
      "execution_count": null,
      "metadata": {
        "id": "cH_GMi4nFSzk"
      },
      "outputs": [],
      "source": [
        "cond_prob = ..."
      ]
    },
    {
      "cell_type": "markdown",
      "metadata": {
        "id": "AsBHViWqGj9U"
      },
      "source": [
        "**Assigment 5** : For test data, the conditional probabily follows Bernoulli distribution and is computed by\n",
        "$$p(x_i|c) = p(x_i=1|c)x_i + p(x_i=0|c)(1 - x_i)$$\n",
        "Then we multiply with prior probability and select the class with highest value as predicted label. For numerical stability, you should use log probability to compute. **(2pt)** <br>\n",
        "$$c = \\arg\\max_{c'}(\\log p(c')+\\sum_{x_i\\in vocab}\\log p(x_i|c'))$$\n",
        "*Hint* Remember to convert test data feature to binary feature as training data.\n"
      ]
    },
    {
      "cell_type": "code",
      "execution_count": 142,
      "metadata": {
        "id": "ZbLeeFp43Eg7"
      },
      "outputs": [],
      "source": [
        "def find_label(data):\n",
        "    \"\"\"\n",
        "        Your code here\n",
        "    \"\"\""
      ]
    },
    {
      "cell_type": "markdown",
      "metadata": {
        "id": "epm5l9atNAMr"
      },
      "source": [
        "Now we can obtain labels and accuracy score of model on test data"
      ]
    },
    {
      "cell_type": "code",
      "execution_count": 143,
      "metadata": {
        "id": "bxBsRI6f4Jym"
      },
      "outputs": [],
      "source": [
        "preprocessed_test_text = [remove_tokens(punctuation, text) for text in newsgroups_test.data]\n",
        "test_data = vectorizer.transform(preprocessed_test_text)"
      ]
    },
    {
      "cell_type": "code",
      "execution_count": 144,
      "metadata": {
        "colab": {
          "base_uri": "https://localhost:8080/"
        },
        "id": "wNLWpQMc4a9s",
        "outputId": "a29291b8-4066-4947-d3ce-19a4e439cb6e"
      },
      "outputs": [
        {
          "name": "stderr",
          "output_type": "stream",
          "text": [
            "7532it [02:17, 54.65it/s]\n"
          ]
        }
      ],
      "source": [
        "pred = []\n",
        "from tqdm import tqdm\n",
        "for text in tqdm(test_data):\n",
        "    pred.append(find_label(text))"
      ]
    },
    {
      "cell_type": "code",
      "execution_count": 145,
      "metadata": {
        "colab": {
          "base_uri": "https://localhost:8080/"
        },
        "id": "MSEKT9t-7KgT",
        "outputId": "8a16bf4b-049b-4e8b-8114-df5e4d92c5f9"
      },
      "outputs": [
        {
          "data": {
            "text/plain": [
              "0.7825278810408922"
            ]
          },
          "execution_count": 145,
          "metadata": {},
          "output_type": "execute_result"
        }
      ],
      "source": [
        "from sklearn import metrics\n",
        "metrics.accuracy_score(pred, newsgroups_test.target)"
      ]
    },
    {
      "cell_type": "markdown",
      "metadata": {
        "id": "x70hGH3RGlbI"
      },
      "source": [
        "**Assigment 6** : Next, we will implement Multinomial Naive Bayes. For this model, the conditional probability follows multinomial distribution. We have to estimate conditional probabilities from data as the frequency of words in all documents with a given class. <br>\n",
        "First, you have to count the number of occurences of a word $x_i$ in all document with class $c$ **(0.5pt)**."
      ]
    },
    {
      "cell_type": "code",
      "execution_count": 149,
      "metadata": {
        "id": "_ZGCBLk8FaHw"
      },
      "outputs": [],
      "source": [
        "word_label_freq = ..."
      ]
    },
    {
      "cell_type": "markdown",
      "metadata": {
        "id": "4GP4fhl_GsOQ"
      },
      "source": [
        "**Assigment 7** : Your task here is to count the total number of words in all documents of class $c$ to compute probability in next step. **(0.5)pt** <br>\n",
        "*Hint* You can sum the number of occurences of all words in class $c$ that we obtained in last step."
      ]
    },
    {
      "cell_type": "code",
      "execution_count": 193,
      "metadata": {
        "id": "W2yAJ49sFud0"
      },
      "outputs": [],
      "source": [
        "num_word_in_classes = ..."
      ]
    },
    {
      "cell_type": "markdown",
      "metadata": {
        "id": "9S4qCZrtGtwO"
      },
      "source": [
        "**Assigment 8** : Now we can compute conditional probability for every pair $(x_i, c)$. Similar to Bernoulli Naive Bayes, we also add Laplace smoothing to avoid zero probability\n",
        "$$p(x_i|c) = \\frac{N_{ic} + \\alpha}{N_c +|V|\\alpha}$$\n",
        "where $N_{ic}$ is the number of occurences of word $x_i$ in all documents with class $c$, $N_c$ is the total number of words in all documents of class $c$. <br>\n",
        "For numerical stability, you should compute log of probablity **(1pt)**.\n",
        "$$\\log p(x_i|c) = \\log (N_{ic} + \\alpha) - \\log(N_c +|V|\\alpha)$$"
      ]
    },
    {
      "cell_type": "code",
      "execution_count": 192,
      "metadata": {
        "id": "gUMX_iwDFwr3"
      },
      "outputs": [],
      "source": [
        "log_cond_prob = ..."
      ]
    },
    {
      "cell_type": "markdown",
      "metadata": {
        "id": "whEfFBPC-W2H"
      },
      "source": [
        "**Assignment 9** : After getting all necessary probabilities, we can find label of new test data. For this task, you have to implement `find_label` function that compute product of prior and conditional probablities, and select the label with highest value. Finally, you can get prediction for all test data and get accuracy score **(3pt)**.\n",
        "$$c = \\arg\\max_{c'}(\\log p(c')+\\sum_{x_i\\in text}\\log p(x_i|c'))$$"
      ]
    },
    {
      "cell_type": "code",
      "execution_count": 188,
      "metadata": {
        "id": "J7pylT3i_CiO"
      },
      "outputs": [],
      "source": [
        "def find_label(data):\n",
        "    \"\"\"\n",
        "      Your code here\n",
        "    \"\"\""
      ]
    },
    {
      "cell_type": "code",
      "execution_count": 191,
      "metadata": {
        "colab": {
          "base_uri": "https://localhost:8080/"
        },
        "id": "WHolEq4mb3Jc",
        "outputId": "82d8edce-36f8-4e39-8a88-615a32ed2870"
      },
      "outputs": [
        {
          "name": "stderr",
          "output_type": "stream",
          "text": [
            "7532it [00:06, 1131.14it/s]\n"
          ]
        },
        {
          "data": {
            "text/plain": [
              "0.8266064790228359"
            ]
          },
          "execution_count": 191,
          "metadata": {},
          "output_type": "execute_result"
        }
      ],
      "source": [
        "pred = []\n",
        "for text in tqdm(test_data):\n",
        "    pred.append(find_label(text))\n",
        "metrics.accuracy_score(pred, newsgroups_test.target)"
      ]
    },
    {
      "cell_type": "markdown",
      "metadata": {
        "id": "VU9JwQ85N6bv"
      },
      "source": [
        "**(Optional)** Try to improve performance of Naive Bayes model in this dataset. You can try everything to do this, i.e. change hyperparameters, preprocess data, ..."
      ]
    }
  ],
  "metadata": {
    "colab": {
      "provenance": []
    },
    "kernelspec": {
      "display_name": "Python 3",
      "name": "python3"
    },
    "language_info": {
      "name": "python"
    }
  },
  "nbformat": 4,
  "nbformat_minor": 0
}
